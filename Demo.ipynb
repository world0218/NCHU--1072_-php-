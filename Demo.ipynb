{
 "cells": [
  {
   "cell_type": "markdown",
   "metadata": {},
   "source": [
    "# PHP\n",
    "## 登入畫面 \n",
    "***login.php***  \n",
    "![](https://i.imgur.com/C8mmTWv.png)\n",
    "    \n",
    "## 註冊畫面\n",
    "***create_Account.php***  \n",
    "![](https://i.imgur.com/M2Qt45X.png)\n",
    "  \n",
    "## 首頁\n",
    "***index.php***  \n",
    "![](https://i.imgur.com/xDbm6jL.gif)\n",
    "  "
   ]
  }
 ],
 "metadata": {
  "kernelspec": {
   "display_name": "Python 3",
   "language": "python",
   "name": "python3"
  },
  "language_info": {
   "codemirror_mode": {
    "name": "ipython",
    "version": 3
   },
   "file_extension": ".py",
   "mimetype": "text/x-python",
   "name": "python",
   "nbconvert_exporter": "python",
   "pygments_lexer": "ipython3",
   "version": "3.8.0"
  }
 },
 "nbformat": 4,
 "nbformat_minor": 4
}
